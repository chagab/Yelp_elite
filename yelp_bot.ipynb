{
 "cells": [
  {
   "cell_type": "code",
   "execution_count": 1,
   "metadata": {},
   "outputs": [],
   "source": [
    "from YelpBot import YelpBot"
   ]
  },
  {
   "cell_type": "code",
   "execution_count": 2,
   "metadata": {},
   "outputs": [],
   "source": [
    "yelp_bot = YelpBot()"
   ]
  },
  {
   "cell_type": "code",
   "execution_count": 3,
   "metadata": {},
   "outputs": [
    {
     "data": {
      "text/plain": [
       "{'id': 'dqLW62wwp8_4jQpvp8a1Fw',\n",
       " 'alias': 'wolfsglen-los-angeles-2',\n",
       " 'name': 'Wolfsglen',\n",
       " 'image_url': 'https://s3-media4.fl.yelpcdn.com/bphoto/Aa7pYbUIPW925JFh8bqOvg/o.jpg',\n",
       " 'is_closed': False,\n",
       " 'url': 'https://www.yelp.com/biz/wolfsglen-los-angeles-2?adjust_creative=_JYYxIM0L3dzWPbyyU37ZA&utm_campaign=yelp_api_v3&utm_medium=api_v3_business_search&utm_source=_JYYxIM0L3dzWPbyyU37ZA',\n",
       " 'review_count': 141,\n",
       " 'categories': [{'alias': 'cocktailbars', 'title': 'Cocktail Bars'},\n",
       "  {'alias': 'newamerican', 'title': 'New American'},\n",
       "  {'alias': 'venues', 'title': 'Venues & Event Spaces'}],\n",
       " 'rating': 4.6,\n",
       " 'coordinates': {'latitude': 34.06136093532007, 'longitude': -118.4445304},\n",
       " 'transactions': ['delivery', 'pickup'],\n",
       " 'location': {'address1': '1071 Glendon Ave',\n",
       "  'address2': None,\n",
       "  'address3': '',\n",
       "  'city': 'Los Angeles',\n",
       "  'zip_code': '90024',\n",
       "  'country': 'US',\n",
       "  'state': 'CA',\n",
       "  'display_address': ['1071 Glendon Ave', 'Los Angeles, CA 90024']},\n",
       " 'phone': '+13102081071',\n",
       " 'display_phone': '(310) 208-1071',\n",
       " 'distance': 561.8702826502216}"
      ]
     },
     "execution_count": 3,
     "metadata": {},
     "output_type": "execute_result"
    }
   ],
   "source": [
    "test = yelp_bot.get_list_of_restaurants_from_location(\"westwood, los angeles\")\n",
    "test[0]"
   ]
  },
  {
   "cell_type": "code",
   "execution_count": 4,
   "metadata": {},
   "outputs": [],
   "source": [
    "res = yelp_bot.get_reviews_from_restaurant(test[0])"
   ]
  },
  {
   "cell_type": "code",
   "execution_count": 5,
   "metadata": {},
   "outputs": [
    {
     "name": "stdout",
     "output_type": "stream",
     "text": [
      "5\n",
      "5\n",
      "4\n"
     ]
    }
   ],
   "source": [
    "name = next(iter(res))\n",
    "for review in res[name]['reviews'].values():\n",
    "    print(review['rating'])"
   ]
  },
  {
   "cell_type": "code",
   "execution_count": 6,
   "metadata": {},
   "outputs": [
    {
     "data": {
      "text/plain": [
       "{'Wolfsglen': {'url': 'https://www.yelp.com/biz/wolfsglen-los-angeles-2?adjust_creative=_JYYxIM0L3dzWPbyyU37ZA&utm_campaign=yelp_api_v3&utm_medium=api_v3_business_search&utm_source=_JYYxIM0L3dzWPbyyU37ZA',\n",
       "  'reviews': {0: {'text': 'Logan and Paris were the absolute best behind the bar. Great drinks and great mixologists. Love the vibe. Will definitely be back.',\n",
       "    'rating': 5},\n",
       "   1: {'text': 'The service was so so. When we ordered the third drink, they took a while to bring it out. I have no complaint about the food or the drink\\n\\nThe drinks...',\n",
       "    'rating': 5},\n",
       "   2: {'text': 'My friend and I had a nice dinner here last night.  There were pluses and minuses.\\n\\nOur waiter was very nice.  However, I hate that our entrees showed up...',\n",
       "    'rating': 4}}}}"
      ]
     },
     "execution_count": 6,
     "metadata": {},
     "output_type": "execute_result"
    }
   ],
   "source": [
    "res"
   ]
  },
  {
   "cell_type": "code",
   "execution_count": 7,
   "metadata": {},
   "outputs": [
    {
     "data": {
      "text/plain": [
       "{'Wolfsglen': {'url': 'https://www.yelp.com/biz/wolfsglen-los-angeles-2?adjust_creative=_JYYxIM0L3dzWPbyyU37ZA&utm_campaign=yelp_api_v3&utm_medium=api_v3_business_search&utm_source=_JYYxIM0L3dzWPbyyU37ZA',\n",
       "  'text': 'I recently dined at Wolfsglen and tried their signature dish, the cocktail-infused shrimp pasta. The dish was absolutely delicious, with the perfect balance of flavors and a unique twist from the cocktail-infused sauce. However, the service was a bit slow, especially when we ordered our third round of drinks. Despite this, the exceptional flavors of the cocktail-infused shrimp pasta made the overall dining experience at Wolfsglen memorable. I will definitely be back for more of their creative and tasty dishes.',\n",
       "  'rating': 4}}"
      ]
     },
     "execution_count": 7,
     "metadata": {},
     "output_type": "execute_result"
    }
   ],
   "source": [
    "yelp_bot.generate_new_review(res)"
   ]
  },
  {
   "cell_type": "code",
   "execution_count": 8,
   "metadata": {},
   "outputs": [],
   "source": [
    "res2 = yelp_bot.get_reviews_from_restaurants(test)"
   ]
  },
  {
   "cell_type": "code",
   "execution_count": 9,
   "metadata": {},
   "outputs": [
    {
     "name": "stdout",
     "output_type": "stream",
     "text": [
      "{'url': 'https://www.yelp.com/biz/wolfsglen-los-angeles-2?adjust_creative=_JYYxIM0L3dzWPbyyU37ZA&utm_campaign=yelp_api_v3&utm_medium=api_v3_business_search&utm_source=_JYYxIM0L3dzWPbyyU37ZA', 'reviews': {0: {'text': 'Logan and Paris were the absolute best behind the bar. Great drinks and great mixologists. Love the vibe. Will definitely be back.', 'rating': 5}, 1: {'text': 'The service was so so. When we ordered the third drink, they took a while to bring it out. I have no complaint about the food or the drink\\n\\nThe drinks...', 'rating': 5}, 2: {'text': 'My friend and I had a nice dinner here last night.  There were pluses and minuses.\\n\\nOur waiter was very nice.  However, I hate that our entrees showed up...', 'rating': 4}}}\n",
      "{'url': 'https://www.yelp.com/biz/granville-west-hollywood-2?adjust_creative=_JYYxIM0L3dzWPbyyU37ZA&utm_campaign=yelp_api_v3&utm_medium=api_v3_business_search&utm_source=_JYYxIM0L3dzWPbyyU37ZA', 'reviews': {0: {'text': 'Upon walking in, you sense a feeling of relaxation. Tranquil, not bustling. That this was a very busy Friday night with almost every seat occupádo, was not...', 'rating': 5}, 1: {'text': \"I think this restaurant is a little bit overrated. \\nService: very poor \\nWe, a group of 4,  went to this branch on Saturday. Although the restaurant wasn't...\", 'rating': 3}, 2: {'text': 'Jan 13.2023 Update\\n\\nBirthday next week so all the birthday coupons are showing up in my email... Elected to go w this one from Granville Restaurant and used...', 'rating': 3}}}\n",
      "{'url': 'https://www.yelp.com/biz/the-hideout-los-angeles-3?adjust_creative=_JYYxIM0L3dzWPbyyU37ZA&utm_campaign=yelp_api_v3&utm_medium=api_v3_business_search&utm_source=_JYYxIM0L3dzWPbyyU37ZA', 'reviews': {0: {'text': 'Joseph P was my server today, I just moved to LA last week to start school and i must say he was absolutely amazing, friendly and attentive. He made me feel...', 'rating': 5}, 1: {'text': 'I lived at the W hotel for a week and I went to The Hideaway daily for breakfast and sometimes happy hour. \\n\\nNINO AND JOSÉ ARE SERVERS THAT DESERVE TO BE...', 'rating': 5}, 2: {'text': 'Quite a disappointing lunch experience. We came mid-week and figured it would be less crowded, which it definitely was. There were just a few tables...', 'rating': 2}}}\n",
      "{'url': 'https://www.yelp.com/biz/ixlb-dimsum-eats-westwood-los-angeles?adjust_creative=_JYYxIM0L3dzWPbyyU37ZA&utm_campaign=yelp_api_v3&utm_medium=api_v3_business_search&utm_source=_JYYxIM0L3dzWPbyyU37ZA', 'reviews': {0: {'text': \"So happy to see this in Westwood the Hollywood location was a bit of a trek . \\nThe best dim sums freshly cooked right there . It's a little factory of dim...\", 'rating': 5}, 1: {'text': 'In general I like the selection, freshness and portion size of the dim sum. The service was very fast. \\n\\nMinus the first star: a bunch of our dim sum...', 'rating': 3}, 2: {'text': \"Been waiting on this place since forever but like I've been trending regarding almost all the new Asian food-related places in West LA, I've only managed to...\", 'rating': 4}}}\n"
     ]
    },
    {
     "name": "stderr",
     "output_type": "stream",
     "text": [
      "\n",
      "KeyboardInterrupt\n",
      "\n"
     ]
    }
   ],
   "source": [
    "new_reviews = yelp_bot.generate_new_reviews(res2)"
   ]
  },
  {
   "cell_type": "code",
   "execution_count": 10,
   "metadata": {},
   "outputs": [
    {
     "ename": "NameError",
     "evalue": "name 'new_reviews' is not defined",
     "output_type": "error",
     "traceback": [
      "\u001b[1;31m---------------------------------------------------------------------------\u001b[0m",
      "\u001b[1;31mNameError\u001b[0m                                 Traceback (most recent call last)",
      "Cell \u001b[1;32mIn[10], line 1\u001b[0m\n\u001b[1;32m----> 1\u001b[0m \u001b[43mnew_reviews\u001b[49m\n",
      "\u001b[1;31mNameError\u001b[0m: name 'new_reviews' is not defined"
     ]
    }
   ],
   "source": [
    "new_reviews"
   ]
  }
 ],
 "metadata": {
  "kernelspec": {
   "display_name": "datascience",
   "language": "python",
   "name": "python3"
  },
  "language_info": {
   "codemirror_mode": {
    "name": "ipython",
    "version": 3
   },
   "file_extension": ".py",
   "mimetype": "text/x-python",
   "name": "python",
   "nbconvert_exporter": "python",
   "pygments_lexer": "ipython3",
   "version": "3.9.16"
  }
 },
 "nbformat": 4,
 "nbformat_minor": 2
}
