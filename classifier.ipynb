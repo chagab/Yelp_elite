{
 "cells": [
  {
   "cell_type": "code",
   "execution_count": 10,
   "metadata": {},
   "outputs": [],
   "source": [
    "import json\n",
    "from sklearn.model_selection import train_test_split\n",
    "from sklearn.feature_extraction.text import TfidfVectorizer\n",
    "from sklearn.linear_model import LogisticRegression\n",
    "from sklearn.metrics import accuracy_score, classification_report"
   ]
  },
  {
   "cell_type": "code",
   "execution_count": 11,
   "metadata": {},
   "outputs": [],
   "source": [
    "dataset = {}\n",
    "dataset['Review'] = []\n",
    "dataset['Label'] = []\n",
    "\n",
    "with open('true_reviews.json') as f:\n",
    "    restaurants = json.load(f)\n",
    "    for name, review in restaurants.items():\n",
    "        dataset['Review'].append(review['review'])\n",
    "        dataset['Label'].append(0)\n",
    "\n",
    "with open('new_reviews.json') as f:\n",
    "    restaurants = json.load(f)\n",
    "    for name, review in restaurants.items():\n",
    "        dataset['Review'].append(review['review'])\n",
    "        dataset['Label'].append(1)"
   ]
  },
  {
   "cell_type": "code",
   "execution_count": 12,
   "metadata": {},
   "outputs": [
    {
     "name": "stdout",
     "output_type": "stream",
     "text": [
      "Accuracy: 0.9285714285714286\n",
      "\n",
      "Classification Report:\n",
      "               precision    recall  f1-score   support\n",
      "\n",
      "           0       0.90      0.90      0.90        10\n",
      "           1       0.94      0.94      0.94        18\n",
      "\n",
      "    accuracy                           0.93        28\n",
      "   macro avg       0.92      0.92      0.92        28\n",
      "weighted avg       0.93      0.93      0.93        28\n",
      "\n"
     ]
    }
   ],
   "source": [
    "# Splitting the dataset into training and testing sets\n",
    "X_train, X_test, y_train, y_test = train_test_split(\n",
    "    dataset['Review'],\n",
    "    dataset['Label'],\n",
    "    test_size=0.2,\n",
    "    random_state=42\n",
    ")\n",
    "\n",
    "# Vectorizing the text data using TF-IDF\n",
    "# You can adjust the max_features parameter based on your dataset size\n",
    "tfidf_vectorizer = TfidfVectorizer(max_features=1000)\n",
    "X_train_tfidf = tfidf_vectorizer.fit_transform(X_train)\n",
    "X_test_tfidf = tfidf_vectorizer.transform(X_test)\n",
    "\n",
    "# Training a logistic regression classifier\n",
    "classifier = LogisticRegression(max_iter=1000)\n",
    "classifier.fit(X_train_tfidf, y_train)\n",
    "\n",
    "# Making predictions\n",
    "y_pred = classifier.predict(X_test_tfidf)\n",
    "\n",
    "# Evaluating the classifier\n",
    "accuracy = accuracy_score(y_test, y_pred)\n",
    "print(\"Accuracy:\", accuracy)\n",
    "print(\"\\nClassification Report:\\n\", classification_report(y_test, y_pred))"
   ]
  },
  {
   "cell_type": "code",
   "execution_count": 1,
   "metadata": {},
   "outputs": [],
   "source": [
    "from YelpBot import YelpBot\n",
    "yelp_bot = YelpBot()"
   ]
  },
  {
   "cell_type": "code",
   "execution_count": 2,
   "metadata": {},
   "outputs": [],
   "source": [
    "location = \"Westwood, Los Angeles\"\n",
    "my_restaurants = yelp_bot.get_list_of_restaurants_from_location(location)"
   ]
  },
  {
   "cell_type": "code",
   "execution_count": 3,
   "metadata": {},
   "outputs": [
    {
     "name": "stdout",
     "output_type": "stream",
     "text": [
      "Scraping Wolfsglen, page 1\n"
     ]
    }
   ],
   "source": [
    "# Get reviews for a restaurant\n",
    "restaurant_reviews = yelp_bot.get_reviews_from_restaurant(\n",
    "    restaurant=my_restaurants[0],\n",
    "    number_of_pages=1\n",
    ")"
   ]
  },
  {
   "cell_type": "code",
   "execution_count": 4,
   "metadata": {},
   "outputs": [],
   "source": [
    "new_review = yelp_bot.generate_new_review(\n",
    "    restaurant_reviews,\n",
    "    number_of_reviews=4\n",
    ")"
   ]
  },
  {
   "cell_type": "code",
   "execution_count": 20,
   "metadata": {},
   "outputs": [],
   "source": [
    "CLASSIFICATION_PROMPT = \"\"\"You will be given a review of a restaurant.\n",
    "Classify the review into one of the following two categories: \n",
    "    1. Human-generated\n",
    "    2. Machine-generated,\n",
    "Return 0 if the review is Human-generated or 1 if the review is\n",
    "Machine-generated, and nothing else. MAKE SURE your output is only made of a 0\n",
    "or a 1.\n",
    "Restaurant review: {review_to_test}\"\"\""
   ]
  },
  {
   "cell_type": "code",
   "execution_count": 14,
   "metadata": {},
   "outputs": [],
   "source": [
    "dataset = []\n",
    "name = next(iter(restaurant_reviews))\n",
    "for r in restaurant_reviews[name]['reviews'].values():\n",
    "    dataset.append(r['text'])\n",
    "\n",
    "name = next(iter(new_review))\n",
    "dataset.insert(2, new_review[name]['text'])"
   ]
  },
  {
   "cell_type": "code",
   "execution_count": 25,
   "metadata": {},
   "outputs": [],
   "source": [
    "import os\n",
    "import json\n",
    "import numpy as np\n",
    "from openai import OpenAI\n",
    "from IPython.display import display, HTML\n",
    "\n",
    "api_key_path = os.path.join(\n",
    "    'user_credentials',\n",
    "    'api_keys.json'\n",
    ")\n",
    "\n",
    "with open(api_key_path) as f:\n",
    "    keys = json.load(f)\n",
    "    openai_api_key = keys['openai_api_key']\n",
    "\n",
    "client = OpenAI(api_key=openai_api_key)"
   ]
  },
  {
   "cell_type": "code",
   "execution_count": 18,
   "metadata": {},
   "outputs": [],
   "source": [
    "def get_completion(\n",
    "    messages: list[dict[str, str]],\n",
    "    model: str = \"gpt-4\",\n",
    "    max_tokens=500,\n",
    "    temperature=0,\n",
    "    stop=None,\n",
    "    seed=123,\n",
    "    tools=None,\n",
    "    # whether to return log probabilities of the output tokens or not. If true, returns the log probabilities of each output token returned in the content of message..\n",
    "    logprobs=None,\n",
    "    top_logprobs=None,\n",
    ") -> str:\n",
    "    params = {\n",
    "        \"model\": model,\n",
    "        \"messages\": messages,\n",
    "        \"max_tokens\": max_tokens,\n",
    "        \"temperature\": temperature,\n",
    "        \"stop\": stop,\n",
    "        \"seed\": seed,\n",
    "        \"logprobs\": logprobs,\n",
    "        \"top_logprobs\": top_logprobs,\n",
    "    }\n",
    "    if tools:\n",
    "        params[\"tools\"] = tools\n",
    "\n",
    "    completion = client.chat.completions.create(**params)\n",
    "    return completion"
   ]
  },
  {
   "cell_type": "code",
   "execution_count": 26,
   "metadata": {},
   "outputs": [
    {
     "data": {
      "text/html": [
       "<span style='color: cyan'>Output token 1:</span> 0, <span style='color: darkorange'>logprobs:</span> -0.000104616025, <span style='color: magenta'>linear probability:</span> 99.99%<br><span style='color: cyan'>Output token 2:</span> 1, <span style='color: darkorange'>logprobs:</span> -9.463951, <span style='color: magenta'>linear probability:</span> 0.01%<br>"
      ],
      "text/plain": [
       "<IPython.core.display.HTML object>"
      ]
     },
     "metadata": {},
     "output_type": "display_data"
    },
    {
     "data": {
      "text/html": [
       "<span style='color: cyan'>Output token 1:</span> 0, <span style='color: darkorange'>logprobs:</span> -9.9251854e-05, <span style='color: magenta'>linear probability:</span> 99.99%<br><span style='color: cyan'>Output token 2:</span> 1, <span style='color: darkorange'>logprobs:</span> -9.307253, <span style='color: magenta'>linear probability:</span> 0.01%<br>"
      ],
      "text/plain": [
       "<IPython.core.display.HTML object>"
      ]
     },
     "metadata": {},
     "output_type": "display_data"
    },
    {
     "data": {
      "text/html": [
       "<span style='color: cyan'>Output token 1:</span> 0, <span style='color: darkorange'>logprobs:</span> -3.888926e-06, <span style='color: magenta'>linear probability:</span> 100.0%<br><span style='color: cyan'>Output token 2:</span> 1, <span style='color: darkorange'>logprobs:</span> -12.762703, <span style='color: magenta'>linear probability:</span> 0.0%<br>"
      ],
      "text/plain": [
       "<IPython.core.display.HTML object>"
      ]
     },
     "metadata": {},
     "output_type": "display_data"
    },
    {
     "data": {
      "text/html": [
       "<span style='color: cyan'>Output token 1:</span> 0, <span style='color: darkorange'>logprobs:</span> -0.0004928642, <span style='color: magenta'>linear probability:</span> 99.95%<br><span style='color: cyan'>Output token 2:</span> 1, <span style='color: darkorange'>logprobs:</span> -7.650735, <span style='color: magenta'>linear probability:</span> 0.05%<br>"
      ],
      "text/plain": [
       "<IPython.core.display.HTML object>"
      ]
     },
     "metadata": {},
     "output_type": "display_data"
    },
    {
     "data": {
      "text/html": [
       "<span style='color: cyan'>Output token 1:</span> 0, <span style='color: darkorange'>logprobs:</span> -7.111979e-05, <span style='color: magenta'>linear probability:</span> 99.99%<br><span style='color: cyan'>Output token 2:</span> Classification, <span style='color: darkorange'>logprobs:</span> -10.289712, <span style='color: magenta'>linear probability:</span> 0.0%<br>"
      ],
      "text/plain": [
       "<IPython.core.display.HTML object>"
      ]
     },
     "metadata": {},
     "output_type": "display_data"
    },
    {
     "data": {
      "text/html": [
       "<span style='color: cyan'>Output token 1:</span> 0, <span style='color: darkorange'>logprobs:</span> -5.216641e-05, <span style='color: magenta'>linear probability:</span> 99.99%<br><span style='color: cyan'>Output token 2:</span> Human, <span style='color: darkorange'>logprobs:</span> -10.735028, <span style='color: magenta'>linear probability:</span> 0.0%<br>"
      ],
      "text/plain": [
       "<IPython.core.display.HTML object>"
      ]
     },
     "metadata": {},
     "output_type": "display_data"
    },
    {
     "data": {
      "text/html": [
       "<span style='color: cyan'>Output token 1:</span> 0, <span style='color: darkorange'>logprobs:</span> -3.7697225e-06, <span style='color: magenta'>linear probability:</span> 100.0%<br><span style='color: cyan'>Output token 2:</span> Human, <span style='color: darkorange'>logprobs:</span> -13.010683, <span style='color: magenta'>linear probability:</span> 0.0%<br>"
      ],
      "text/plain": [
       "<IPython.core.display.HTML object>"
      ]
     },
     "metadata": {},
     "output_type": "display_data"
    },
    {
     "data": {
      "text/html": [
       "<span style='color: cyan'>Output token 1:</span> 0, <span style='color: darkorange'>logprobs:</span> -2.4391957e-05, <span style='color: magenta'>linear probability:</span> 100.0%<br><span style='color: cyan'>Output token 2:</span> Human, <span style='color: darkorange'>logprobs:</span> -11.54818, <span style='color: magenta'>linear probability:</span> 0.0%<br>"
      ],
      "text/plain": [
       "<IPython.core.display.HTML object>"
      ]
     },
     "metadata": {},
     "output_type": "display_data"
    },
    {
     "data": {
      "text/html": [
       "<span style='color: cyan'>Output token 1:</span> 0, <span style='color: darkorange'>logprobs:</span> -1.7478143e-05, <span style='color: magenta'>linear probability:</span> 100.0%<br><span style='color: cyan'>Output token 2:</span> 1, <span style='color: darkorange'>logprobs:</span> -11.137089, <span style='color: magenta'>linear probability:</span> 0.0%<br>"
      ],
      "text/plain": [
       "<IPython.core.display.HTML object>"
      ]
     },
     "metadata": {},
     "output_type": "display_data"
    },
    {
     "data": {
      "text/html": [
       "<span style='color: cyan'>Output token 1:</span> 0, <span style='color: darkorange'>logprobs:</span> -0.00036620206, <span style='color: magenta'>linear probability:</span> 99.96%<br><span style='color: cyan'>Output token 2:</span> 1, <span style='color: darkorange'>logprobs:</span> -8.043318, <span style='color: magenta'>linear probability:</span> 0.03%<br>"
      ],
      "text/plain": [
       "<IPython.core.display.HTML object>"
      ]
     },
     "metadata": {},
     "output_type": "display_data"
    },
    {
     "data": {
      "text/html": [
       "<span style='color: cyan'>Output token 1:</span> 0, <span style='color: darkorange'>logprobs:</span> -5.9153886e-06, <span style='color: magenta'>linear probability:</span> 100.0%<br><span style='color: cyan'>Output token 2:</span> Human, <span style='color: darkorange'>logprobs:</span> -12.72127, <span style='color: magenta'>linear probability:</span> 0.0%<br>"
      ],
      "text/plain": [
       "<IPython.core.display.HTML object>"
      ]
     },
     "metadata": {},
     "output_type": "display_data"
    }
   ],
   "source": [
    "for review in dataset:\n",
    "    API_RESPONSE = get_completion(\n",
    "        [{\n",
    "            \"role\": \"user\",\n",
    "            \"content\": CLASSIFICATION_PROMPT.format(review_to_test=review),\n",
    "        }],\n",
    "        logprobs=True,\n",
    "        top_logprobs=2,\n",
    "        model=\"gpt-3.5-turbo\",\n",
    "    )\n",
    "\n",
    "    top_two_logprobs = API_RESPONSE.choices[0].logprobs.content[0].top_logprobs\n",
    "    html_content = \"\"\n",
    "\n",
    "    for i, logprob in enumerate(top_two_logprobs, start=1):\n",
    "        linear_prob = np.round(np.exp(logprob.logprob) * 100, 2)\n",
    "        html_content += (\n",
    "            f\"<span style='color: cyan'>Output token {i}:</span> {logprob.token}, \"\n",
    "            f\"<span style='color: darkorange'>logprobs:</span> {logprob.logprob}, \"\n",
    "            f\"<span style='color: magenta'>linear probability:</span> {linear_prob}%<br>\"\n",
    "        )\n",
    "    display(HTML(html_content))"
   ]
  }
 ],
 "metadata": {
  "kernelspec": {
   "display_name": "datascience",
   "language": "python",
   "name": "python3"
  },
  "language_info": {
   "codemirror_mode": {
    "name": "ipython",
    "version": 3
   },
   "file_extension": ".py",
   "mimetype": "text/x-python",
   "name": "python",
   "nbconvert_exporter": "python",
   "pygments_lexer": "ipython3",
   "version": "3.9.16"
  }
 },
 "nbformat": 4,
 "nbformat_minor": 2
}
