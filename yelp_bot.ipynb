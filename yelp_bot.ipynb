{
 "cells": [
  {
   "cell_type": "code",
   "execution_count": 1,
   "metadata": {},
   "outputs": [],
   "source": [
    "from YelpBot import YelpBot"
   ]
  },
  {
   "cell_type": "code",
   "execution_count": 2,
   "metadata": {},
   "outputs": [],
   "source": [
    "yelp_bot = YelpBot()"
   ]
  },
  {
   "cell_type": "code",
   "execution_count": 3,
   "metadata": {},
   "outputs": [
    {
     "data": {
      "text/plain": [
       "{'id': 'dqLW62wwp8_4jQpvp8a1Fw',\n",
       " 'alias': 'wolfsglen-los-angeles-2',\n",
       " 'name': 'Wolfsglen',\n",
       " 'image_url': 'https://s3-media4.fl.yelpcdn.com/bphoto/Aa7pYbUIPW925JFh8bqOvg/o.jpg',\n",
       " 'is_closed': False,\n",
       " 'url': 'https://www.yelp.com/biz/wolfsglen-los-angeles-2?adjust_creative=_JYYxIM0L3dzWPbyyU37ZA&utm_campaign=yelp_api_v3&utm_medium=api_v3_business_search&utm_source=_JYYxIM0L3dzWPbyyU37ZA',\n",
       " 'review_count': 141,\n",
       " 'categories': [{'alias': 'cocktailbars', 'title': 'Cocktail Bars'},\n",
       "  {'alias': 'newamerican', 'title': 'New American'},\n",
       "  {'alias': 'venues', 'title': 'Venues & Event Spaces'}],\n",
       " 'rating': 4.6,\n",
       " 'coordinates': {'latitude': 34.06136093532007, 'longitude': -118.4445304},\n",
       " 'transactions': ['delivery', 'pickup'],\n",
       " 'location': {'address1': '1071 Glendon Ave',\n",
       "  'address2': None,\n",
       "  'address3': '',\n",
       "  'city': 'Los Angeles',\n",
       "  'zip_code': '90024',\n",
       "  'country': 'US',\n",
       "  'state': 'CA',\n",
       "  'display_address': ['1071 Glendon Ave', 'Los Angeles, CA 90024']},\n",
       " 'phone': '+13102081071',\n",
       " 'display_phone': '(310) 208-1071',\n",
       " 'distance': 561.8702826502216}"
      ]
     },
     "execution_count": 3,
     "metadata": {},
     "output_type": "execute_result"
    }
   ],
   "source": [
    "test = yelp_bot.get_list_of_restaurants_from_location(\"westwood, los angeles\")\n",
    "test[0]"
   ]
  },
  {
   "cell_type": "code",
   "execution_count": 4,
   "metadata": {},
   "outputs": [],
   "source": [
    "res = yelp_bot.get_reviews_from_restaurant(test[0])"
   ]
  },
  {
   "cell_type": "code",
   "execution_count": 8,
   "metadata": {},
   "outputs": [
    {
     "name": "stdout",
     "output_type": "stream",
     "text": [
      "<class 'int'>\n",
      "<class 'int'>\n",
      "<class 'int'>\n"
     ]
    }
   ],
   "source": [
    "name = next(iter(res))\n",
    "for review in res[name]['reviews'].values():\n",
    "    print(review['rating'])"
   ]
  },
  {
   "cell_type": "code",
   "execution_count": 9,
   "metadata": {},
   "outputs": [
    {
     "data": {
      "text/plain": [
       "{'Wolfsglen': {'url': 'https://www.yelp.com/biz/wolfsglen-los-angeles-2?adjust_creative=_JYYxIM0L3dzWPbyyU37ZA&utm_campaign=yelp_api_v3&utm_medium=api_v3_business_search&utm_source=_JYYxIM0L3dzWPbyyU37ZA',\n",
       "  'reviews': {0: {'text': 'Logan and Paris were the absolute best behind the bar. Great drinks and great mixologists. Love the vibe. Will definitely be back.',\n",
       "    'rating': 5},\n",
       "   1: {'text': 'The service was so so. When we ordered the third drink, they took a while to bring it out. I have no complaint about the food or the drink\\n\\nThe drinks...',\n",
       "    'rating': 5},\n",
       "   2: {'text': 'My friend and I had a nice dinner here last night.  There were pluses and minuses.\\n\\nOur waiter was very nice.  However, I hate that our entrees showed up...',\n",
       "    'rating': 4}}}}"
      ]
     },
     "execution_count": 9,
     "metadata": {},
     "output_type": "execute_result"
    }
   ],
   "source": [
    "res"
   ]
  }
 ],
 "metadata": {
  "kernelspec": {
   "display_name": "datascience",
   "language": "python",
   "name": "python3"
  },
  "language_info": {
   "codemirror_mode": {
    "name": "ipython",
    "version": 3
   },
   "file_extension": ".py",
   "mimetype": "text/x-python",
   "name": "python",
   "nbconvert_exporter": "python",
   "pygments_lexer": "ipython3",
   "version": "3.9.16"
  }
 },
 "nbformat": 4,
 "nbformat_minor": 2
}
