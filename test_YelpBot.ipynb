{
 "cells": [
  {
   "cell_type": "code",
   "execution_count": 1,
   "metadata": {},
   "outputs": [],
   "source": [
    "from YelpBot import YelpBot\n",
    "yelp_bot = YelpBot()"
   ]
  },
  {
   "cell_type": "code",
   "execution_count": 2,
   "metadata": {},
   "outputs": [],
   "source": [
    "location = \"Westwood, Los Angeles\"\n",
    "my_restaurants = yelp_bot.get_list_of_restaurants_from_location(location)"
   ]
  },
  {
   "cell_type": "markdown",
   "metadata": {},
   "source": [
    "**Scraping reviews**"
   ]
  },
  {
   "cell_type": "code",
   "execution_count": 3,
   "metadata": {},
   "outputs": [],
   "source": [
    "# Get reviews for a restaurant\n",
    "# restaurant_reviews = yelp_bot.get_reviews_from_restaurant(\n",
    "#     restaurant=my_restaurants[0],\n",
    "#     number_of_pages=1\n",
    "# )\n",
    "\n",
    "# Get the reviews for a list of restaurants\n",
    "# reviews = yelp_bot.get_reviews_from_list_of_restaurants(\n",
    "#     restaurants=my_restaurants,\n",
    "#     number_of_pages=5,\n",
    "#     store=True\n",
    "# )"
   ]
  },
  {
   "cell_type": "markdown",
   "metadata": {},
   "source": [
    "**Generating reviews**"
   ]
  },
  {
   "cell_type": "code",
   "execution_count": 4,
   "metadata": {},
   "outputs": [],
   "source": [
    "# Generate a new review for a restaurant\n",
    "# new_review = yelp_bot.generate_new_review(\n",
    "#     restaurant_reviews,\n",
    "#     number_of_reviews=4\n",
    "# )\n",
    "\n",
    "# Generate a list of new reviews for a list of restaurants\n",
    "# new_reviews = yelp_bot.generate_list_of_new_reviews(\n",
    "#     restaurants_reviews=reviews,\n",
    "#     n_input_reviews=2,\n",
    "#     n_output_reviews=1,\n",
    "#     store=True\n",
    "# )"
   ]
  },
  {
   "cell_type": "code",
   "execution_count": 5,
   "metadata": {},
   "outputs": [
    {
     "name": "stderr",
     "output_type": "stream",
     "text": [
      "There was an error managing chromedriver (error sending request for url (https://googlechromelabs.github.io/chrome-for-testing/known-good-versions-with-downloads.json): error trying to connect: An existing connection was forcibly closed by the remote host. (os error 10054)); using driver found in the cache\n"
     ]
    },
    {
     "name": "stdout",
     "output_type": "stream",
     "text": [
      "Mozilla/5.0 (Windows NT 10.0; rv:109.0) Gecko/20100101 Firefox/117.0\n"
     ]
    },
    {
     "ename": "ElementClickInterceptedException",
     "evalue": "Message: element click intercepted: Element <input autocomplete=\"off\" spellcheck=\"false\" tabindex=\"-1\" aria-hidden=\"true\" data-testid=\"hiddenInput\" class=\"input__09f24__yaqh1 css-1y1s7b9 e140vcx50\" disabled=\"\" type=\"text\" placeholder=\" \" value=\"\"> is not clickable at point (674, 48). Other element would receive the click: <input name=\"find_desc\" id=\"search_description\" autocomplete=\"off\" role=\"textbox\" aria-autocomplete=\"list\" tabindex=\"0\" data-testid=\"realInput\" class=\"input__09f24__yaqh1 css-wd4qhm e140vcx51\" type=\"text\" placeholder=\"things to do, nail salons, plumbers\" value=\"\">\n  (Session info: chrome=121.0.6167.189)\nStacktrace:\n\tGetHandleVerifier [0x00007FF797907012+3522402]\n\t(No symbol) [0x00007FF797528352]\n\t(No symbol) [0x00007FF7973D5ABB]\n\t(No symbol) [0x00007FF797423390]\n\t(No symbol) [0x00007FF7974210D2]\n\t(No symbol) [0x00007FF79741E834]\n\t(No symbol) [0x00007FF79741D569]\n\t(No symbol) [0x00007FF797411910]\n\t(No symbol) [0x00007FF79743F05A]\n\t(No symbol) [0x00007FF79741120A]\n\t(No symbol) [0x00007FF79743F270]\n\t(No symbol) [0x00007FF79745BDA3]\n\t(No symbol) [0x00007FF79743EE03]\n\t(No symbol) [0x00007FF79740F4D4]\n\t(No symbol) [0x00007FF7974105F1]\n\tGetHandleVerifier [0x00007FF797939B9D+3730157]\n\tGetHandleVerifier [0x00007FF79798F02D+4079485]\n\tGetHandleVerifier [0x00007FF7979875D3+4048163]\n\tGetHandleVerifier [0x00007FF79765A649+718233]\n\t(No symbol) [0x00007FF797534A3F]\n\t(No symbol) [0x00007FF79752FA94]\n\t(No symbol) [0x00007FF79752FBC2]\n\t(No symbol) [0x00007FF79751F2E4]\n\tBaseThreadInitThunk [0x00007FFB51AA257D+29]\n\tRtlUserThreadStart [0x00007FFB52BCAA58+40]\n",
     "output_type": "error",
     "traceback": [
      "\u001b[1;31m---------------------------------------------------------------------------\u001b[0m",
      "\u001b[1;31mElementClickInterceptedException\u001b[0m          Traceback (most recent call last)",
      "Cell \u001b[1;32mIn[5], line 4\u001b[0m\n\u001b[0;32m      2\u001b[0m yelp_bot\u001b[38;5;241m.\u001b[39mcreate_bot(headless\u001b[38;5;241m=\u001b[39m\u001b[38;5;28;01mFalse\u001b[39;00m)\n\u001b[0;32m      3\u001b[0m yelp_bot\u001b[38;5;241m.\u001b[39mopen_yelp()\n\u001b[1;32m----> 4\u001b[0m \u001b[43myelp_bot\u001b[49m\u001b[38;5;241;43m.\u001b[39;49m\u001b[43mopen_restaurant_page\u001b[49m\u001b[43m(\u001b[49m\u001b[38;5;124;43m\"\u001b[39;49m\u001b[38;5;124;43mtest\u001b[39;49m\u001b[38;5;124;43m\"\u001b[39;49m\u001b[43m)\u001b[49m\n",
      "File \u001b[1;32mc:\\Users\\gabri\\Documents\\Programming\\Yelp_elite\\YelpBot.py:476\u001b[0m, in \u001b[0;36mYelpBot.open_restaurant_page\u001b[1;34m(self, restaurant)\u001b[0m\n\u001b[0;32m    467\u001b[0m inputLocation\u001b[38;5;241m.\u001b[39msend_keys(\u001b[38;5;28mself\u001b[39m\u001b[38;5;241m.\u001b[39mlocation)\n\u001b[0;32m    469\u001b[0m inputRestaurant \u001b[38;5;241m=\u001b[39m WebDriverWait(\u001b[38;5;28mself\u001b[39m\u001b[38;5;241m.\u001b[39mdriver, \u001b[38;5;28mself\u001b[39m\u001b[38;5;241m.\u001b[39mlong_sleep_time)\u001b[38;5;241m.\u001b[39muntil(\n\u001b[0;32m    470\u001b[0m     EC\u001b[38;5;241m.\u001b[39mpresence_of_element_located((\n\u001b[0;32m    471\u001b[0m         By\u001b[38;5;241m.\u001b[39mXPATH,\n\u001b[1;32m   (...)\u001b[0m\n\u001b[0;32m    474\u001b[0m     ))\n\u001b[0;32m    475\u001b[0m )\n\u001b[1;32m--> 476\u001b[0m \u001b[43minputRestaurant\u001b[49m\u001b[38;5;241;43m.\u001b[39;49m\u001b[43mclick\u001b[49m\u001b[43m(\u001b[49m\u001b[43m)\u001b[49m\n\u001b[0;32m    477\u001b[0m inputRestaurant\u001b[38;5;241m.\u001b[39msend_keys(restaurant)\n\u001b[0;32m    478\u001b[0m inputRestaurant\u001b[38;5;241m.\u001b[39msend_keys(Keys\u001b[38;5;241m.\u001b[39mRETURN)\n",
      "File \u001b[1;32mc:\\Users\\gabri\\anaconda3\\envs\\datascience\\lib\\site-packages\\selenium\\webdriver\\remote\\webelement.py:94\u001b[0m, in \u001b[0;36mWebElement.click\u001b[1;34m(self)\u001b[0m\n\u001b[0;32m     92\u001b[0m \u001b[38;5;28;01mdef\u001b[39;00m \u001b[38;5;21mclick\u001b[39m(\u001b[38;5;28mself\u001b[39m) \u001b[38;5;241m-\u001b[39m\u001b[38;5;241m>\u001b[39m \u001b[38;5;28;01mNone\u001b[39;00m:\n\u001b[0;32m     93\u001b[0m \u001b[38;5;250m    \u001b[39m\u001b[38;5;124;03m\"\"\"Clicks the element.\"\"\"\u001b[39;00m\n\u001b[1;32m---> 94\u001b[0m     \u001b[38;5;28;43mself\u001b[39;49m\u001b[38;5;241;43m.\u001b[39;49m\u001b[43m_execute\u001b[49m\u001b[43m(\u001b[49m\u001b[43mCommand\u001b[49m\u001b[38;5;241;43m.\u001b[39;49m\u001b[43mCLICK_ELEMENT\u001b[49m\u001b[43m)\u001b[49m\n",
      "File \u001b[1;32mc:\\Users\\gabri\\anaconda3\\envs\\datascience\\lib\\site-packages\\selenium\\webdriver\\remote\\webelement.py:395\u001b[0m, in \u001b[0;36mWebElement._execute\u001b[1;34m(self, command, params)\u001b[0m\n\u001b[0;32m    393\u001b[0m     params \u001b[38;5;241m=\u001b[39m {}\n\u001b[0;32m    394\u001b[0m params[\u001b[38;5;124m\"\u001b[39m\u001b[38;5;124mid\u001b[39m\u001b[38;5;124m\"\u001b[39m] \u001b[38;5;241m=\u001b[39m \u001b[38;5;28mself\u001b[39m\u001b[38;5;241m.\u001b[39m_id\n\u001b[1;32m--> 395\u001b[0m \u001b[38;5;28;01mreturn\u001b[39;00m \u001b[38;5;28;43mself\u001b[39;49m\u001b[38;5;241;43m.\u001b[39;49m\u001b[43m_parent\u001b[49m\u001b[38;5;241;43m.\u001b[39;49m\u001b[43mexecute\u001b[49m\u001b[43m(\u001b[49m\u001b[43mcommand\u001b[49m\u001b[43m,\u001b[49m\u001b[43m \u001b[49m\u001b[43mparams\u001b[49m\u001b[43m)\u001b[49m\n",
      "File \u001b[1;32mc:\\Users\\gabri\\anaconda3\\envs\\datascience\\lib\\site-packages\\selenium\\webdriver\\remote\\webdriver.py:347\u001b[0m, in \u001b[0;36mWebDriver.execute\u001b[1;34m(self, driver_command, params)\u001b[0m\n\u001b[0;32m    345\u001b[0m response \u001b[38;5;241m=\u001b[39m \u001b[38;5;28mself\u001b[39m\u001b[38;5;241m.\u001b[39mcommand_executor\u001b[38;5;241m.\u001b[39mexecute(driver_command, params)\n\u001b[0;32m    346\u001b[0m \u001b[38;5;28;01mif\u001b[39;00m response:\n\u001b[1;32m--> 347\u001b[0m     \u001b[38;5;28;43mself\u001b[39;49m\u001b[38;5;241;43m.\u001b[39;49m\u001b[43merror_handler\u001b[49m\u001b[38;5;241;43m.\u001b[39;49m\u001b[43mcheck_response\u001b[49m\u001b[43m(\u001b[49m\u001b[43mresponse\u001b[49m\u001b[43m)\u001b[49m\n\u001b[0;32m    348\u001b[0m     response[\u001b[38;5;124m\"\u001b[39m\u001b[38;5;124mvalue\u001b[39m\u001b[38;5;124m\"\u001b[39m] \u001b[38;5;241m=\u001b[39m \u001b[38;5;28mself\u001b[39m\u001b[38;5;241m.\u001b[39m_unwrap_value(response\u001b[38;5;241m.\u001b[39mget(\u001b[38;5;124m\"\u001b[39m\u001b[38;5;124mvalue\u001b[39m\u001b[38;5;124m\"\u001b[39m, \u001b[38;5;28;01mNone\u001b[39;00m))\n\u001b[0;32m    349\u001b[0m     \u001b[38;5;28;01mreturn\u001b[39;00m response\n",
      "File \u001b[1;32mc:\\Users\\gabri\\anaconda3\\envs\\datascience\\lib\\site-packages\\selenium\\webdriver\\remote\\errorhandler.py:229\u001b[0m, in \u001b[0;36mErrorHandler.check_response\u001b[1;34m(self, response)\u001b[0m\n\u001b[0;32m    227\u001b[0m         alert_text \u001b[38;5;241m=\u001b[39m value[\u001b[38;5;124m\"\u001b[39m\u001b[38;5;124malert\u001b[39m\u001b[38;5;124m\"\u001b[39m]\u001b[38;5;241m.\u001b[39mget(\u001b[38;5;124m\"\u001b[39m\u001b[38;5;124mtext\u001b[39m\u001b[38;5;124m\"\u001b[39m)\n\u001b[0;32m    228\u001b[0m     \u001b[38;5;28;01mraise\u001b[39;00m exception_class(message, screen, stacktrace, alert_text)  \u001b[38;5;66;03m# type: ignore[call-arg]  # mypy is not smart enough here\u001b[39;00m\n\u001b[1;32m--> 229\u001b[0m \u001b[38;5;28;01mraise\u001b[39;00m exception_class(message, screen, stacktrace)\n",
      "\u001b[1;31mElementClickInterceptedException\u001b[0m: Message: element click intercepted: Element <input autocomplete=\"off\" spellcheck=\"false\" tabindex=\"-1\" aria-hidden=\"true\" data-testid=\"hiddenInput\" class=\"input__09f24__yaqh1 css-1y1s7b9 e140vcx50\" disabled=\"\" type=\"text\" placeholder=\" \" value=\"\"> is not clickable at point (674, 48). Other element would receive the click: <input name=\"find_desc\" id=\"search_description\" autocomplete=\"off\" role=\"textbox\" aria-autocomplete=\"list\" tabindex=\"0\" data-testid=\"realInput\" class=\"input__09f24__yaqh1 css-wd4qhm e140vcx51\" type=\"text\" placeholder=\"things to do, nail salons, plumbers\" value=\"\">\n  (Session info: chrome=121.0.6167.189)\nStacktrace:\n\tGetHandleVerifier [0x00007FF797907012+3522402]\n\t(No symbol) [0x00007FF797528352]\n\t(No symbol) [0x00007FF7973D5ABB]\n\t(No symbol) [0x00007FF797423390]\n\t(No symbol) [0x00007FF7974210D2]\n\t(No symbol) [0x00007FF79741E834]\n\t(No symbol) [0x00007FF79741D569]\n\t(No symbol) [0x00007FF797411910]\n\t(No symbol) [0x00007FF79743F05A]\n\t(No symbol) [0x00007FF79741120A]\n\t(No symbol) [0x00007FF79743F270]\n\t(No symbol) [0x00007FF79745BDA3]\n\t(No symbol) [0x00007FF79743EE03]\n\t(No symbol) [0x00007FF79740F4D4]\n\t(No symbol) [0x00007FF7974105F1]\n\tGetHandleVerifier [0x00007FF797939B9D+3730157]\n\tGetHandleVerifier [0x00007FF79798F02D+4079485]\n\tGetHandleVerifier [0x00007FF7979875D3+4048163]\n\tGetHandleVerifier [0x00007FF79765A649+718233]\n\t(No symbol) [0x00007FF797534A3F]\n\t(No symbol) [0x00007FF79752FA94]\n\t(No symbol) [0x00007FF79752FBC2]\n\t(No symbol) [0x00007FF79751F2E4]\n\tBaseThreadInitThunk [0x00007FFB51AA257D+29]\n\tRtlUserThreadStart [0x00007FFB52BCAA58+40]\n"
     ]
    }
   ],
   "source": [
    "# # Posting reviews\n",
    "yelp_bot.create_bot(headless=False)\n",
    "yelp_bot.open_yelp()\n",
    "yelp_bot.open_restaurant_page(\"test\")"
   ]
  },
  {
   "cell_type": "markdown",
   "metadata": {},
   "source": []
  }
 ],
 "metadata": {
  "kernelspec": {
   "display_name": "datascience",
   "language": "python",
   "name": "python3"
  },
  "language_info": {
   "codemirror_mode": {
    "name": "ipython",
    "version": 3
   },
   "file_extension": ".py",
   "mimetype": "text/x-python",
   "name": "python",
   "nbconvert_exporter": "python",
   "pygments_lexer": "ipython3",
   "version": "3.9.16"
  }
 },
 "nbformat": 4,
 "nbformat_minor": 2
}
