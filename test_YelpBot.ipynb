{
 "cells": [
  {
   "cell_type": "code",
   "execution_count": 1,
   "metadata": {},
   "outputs": [],
   "source": [
    "import json\n",
    "from YelpBot import YelpBot\n",
    "\n",
    "yelp_bot = YelpBot()"
   ]
  },
  {
   "cell_type": "code",
   "execution_count": 2,
   "metadata": {},
   "outputs": [],
   "source": [
    "location = \"Westwood, Los Angeles\"\n",
    "my_restaurants = yelp_bot.get_list_of_restaurants_from_location(location)"
   ]
  },
  {
   "cell_type": "markdown",
   "metadata": {},
   "source": [
    "# Generating a single new review\n",
    "\n",
    "## 1. Scraping reviews"
   ]
  },
  {
   "cell_type": "code",
   "execution_count": 3,
   "metadata": {},
   "outputs": [
    {
     "name": "stdout",
     "output_type": "stream",
     "text": [
      "Scraping Wolfsglen, page 1\n"
     ]
    }
   ],
   "source": [
    "# Get reviews for a restaurant\n",
    "restaurant_reviews = yelp_bot.get_reviews_from_restaurant(\n",
    "    restaurant=my_restaurants[0],\n",
    "    number_of_pages=1\n",
    ")"
   ]
  },
  {
   "cell_type": "code",
   "execution_count": 4,
   "metadata": {},
   "outputs": [
    {
     "name": "stdout",
     "output_type": "stream",
     "text": [
      "{\n",
      "    \"Wolfsglen\": {\n",
      "        \"url\": \"https://www.yelp.com/biz/wolfsglen-los-angeles-2?adjust_creative=_JYYxIM0L3dzWPbyyU37ZA&utm_campaign=yelp_api_v3&utm_medium=api_v3_business_search&utm_source=_JYYxIM0L3dzWPbyyU37ZA\",\n",
      "        \"reviews\": {\n",
      "            \"0\": {\n",
      "                \"text\": \"I discovered wolfsglen last night after searching yelp for date spots. I've lived on the West side for a few years now, and hadn't ever heard of Wolfsglen before.The food was super good: \\u2043 Shwarma was super flavorful although a little small. 9/10 \\u2043 Homemade Labneh was a sell on our server's part, along with the sea bass. Super smooth and flavorful. 8.5/10 \\u2043 Striped bass was soft and tender, with a delicious spicy sauce. Nice large portion. 9.5/10 \\u2043 Rigatoni was flavorful, but came out a little gummy and not hot enough. 7/10 \\u2043 Rocotta donuts weren't particularly exciting, but nice and warm with good sauce. Definitely worth the price on these, since they came with 6 or 7 pieces. 8/10We also got a Purple rain, which was super tasty as well as a glass of the botonero. Ultimately, I had to give Wolfsglen 5 stars, particularly because our server (i think his name was Will) was super helpful, and oftered suggestions regarding the menu. He advised us regarding portion sizing and warned us about certain aspect of the menu that weren't specified on the menu, for example, explaining that the cacio e pepe was lemony compared to a more traditional cacio. Unlike a lot of service around LA, it felt like Will actually wanted to make sure we were enjoying ourselves, constantly checking in and bussing used dishes, bringing us new utensils, etc.I will definitely be back!\",\n",
      "                \"rating\": 5.0\n",
      "            },\n",
      "            \"1\": {\n",
      "                \"text\": \"The service was so so. When we ordered the third drink, they took a while to bring it out. I have no complaint about the food or the drinkThe drinks decorations are very cute, the taste is okay, nothing extraordinary. The food's portion is bigThis place is a fine dining so the whole restaurant's interior design looks amazing.\",\n",
      "                \"rating\": 5.0\n",
      "            },\n",
      "            \"2\": {\n",
      "                \"text\": \"At this exact location used to sit an LA legend, the Mustache Cafe! When it closed (20 years ago? Maybe longer?) I felt a precious piece of my Westwood memory went with it. When so friends invited me to dinner at Wolfsglen, I was a little afraid that I might be disappointed... but thanks to the wonderful team at Wolfsglen, I wasn't -- I was actually quite happy with the food, the service, and the nice dining experience here. The place was completely renovated (from my memory 20 years ago, of course) and has a modern and open vibe. Casual and relaxing but a flair of fine dining. The service was excellent; attentive but not too much. We (a party of 5) had the table right next to the entrance but felt like we had a space all to our own. We ordered a few appetizers but they were gone before I could snap any photos. Of the entrees, I think the pork chop is definitely the best -very tender and big enough to feed two. The hanger steaks were nice but seem a bit small. The cauliflower steak was nice too, for the vegetarians among us. The chocolate bomb was a blast! The ricotta donuts were tasty. All and all I'd say this place lived up to the old standards set by Mustache Cafe. Now, it may take them a while before they can reach the \\\"legend\\\" status, but I think they have a good chance!\",\n",
      "                \"rating\": 4.0\n",
      "            },\n",
      "            \"3\": {\n",
      "                \"text\": \"My friend and I had a nice dinner here last night. There were pluses and minuses.Our waiter was very nice. However, I hate that our entrees showed up while we are not even halfway through our appetizers. Please please course things out! I felt like I was in a marathon! Service was 3/5.The salmon poke was light, refreshing, and had a kick 4.5/5.The pork chop was lacking flavor. The presentation was nice though 3.5/5.My friend loved her steak and the fries were my favorite kind, shoestring and perfectly crispy 4.5/5.The brussels sprouts were tasty 4/5. I will probably be back to try their seafood dishes.\",\n",
      "                \"rating\": 4.0\n",
      "            },\n",
      "            \"4\": {\n",
      "                \"text\": \"As someone who's lived in Westwood for almost 6 years, I was so pleasantly surprised to stumble upon a hidden gem like @wolfsglenwestwood in @westwoodvillage . With beautiful, modern art-deco inspired interiors, Wolfsglen offers an ambient, vibey experience that is perfect for celebrating a special occasion or a date. Their menu offers quite a selection of well-curated cocktails, as well as Italian and American classics. While some of the dishes weren't my favorite, I would still recommend the bone marrow & wagyu pastrami, mushroom arancini, and pan roasted pork chop. This is definitely a spot that I would visit again for drinks, and I highly recommend checking them out if you're in the area and supporting a small and well deserving business! pan roasted pork chop mushroom arancini cacio e pepe (don't recommend) truffle fries bone marrow & wagyu pastrami purple rain, amethyst, geisha's kiss, born a star martini\",\n",
      "                \"rating\": 4.0\n",
      "            },\n",
      "            \"5\": {\n",
      "                \"text\": \"Nice ambiance, good food and great staff. The fries here a SO GOOD! They apparently get them custom made and they are perfectly crispy and seasoned. Don't pass these up. The spicy aioli was delicious, too. All their beef is from Creekstone Farms (that means it's halal!) We asked our waitress a million times to confirm their only supplier for the beef is Creekstone, and she confirmed. She was also super sweet; I wish I remembered her name to shout her out. Thanks for the great service! Hanger steak, cooked medium well. 8/10I prefer medium, but I compromised for my friend. It was still juicy and tender even though it was almost well done. I liked the citrus-ey chimichurri sauce on top; they paired well together.Burger without the bacon. 7.5/10Although it looked a little dry, the meat was cooked well. The bun was nice and soft and there was a good amount of sauce inside.There is free parking at the Broxton lot for the first two hours. It's a short walk from the restaurant, and it's a nice area to walk in.\",\n",
      "                \"rating\": 4.0\n",
      "            },\n",
      "            \"6\": {\n",
      "                \"text\": \"I came here on a Wednesday evening after dinner for cocktails. Our waiter whose name I forgot was amazing. (He was a younger gentleman with brunette hair) he was so attentive and proactive to make sure we had everything we needed. The cocktails here were terrific. You can tell they use ingredients that are out of the ordinary based on the taste of the cocktail. It was easy to make a reservation and there were a good amount of people on Wednesday evening and there were still seats available. I'll definitely be back for an after dinner drink to try the rest of the menu!\",\n",
      "                \"rating\": 5.0\n",
      "            },\n",
      "            \"7\": {\n",
      "                \"text\": \"Wolfsglen is a perfect date spot in Westwood because of the ambiance and service. It's dim inside, with inviting evening lighting choices, from the dimmable table lamps to the pink design lit up around the border of the bar.You can get a reservation on OpenTable, and there's cheaper parking available at the meters if you don't want to park in the lot next door. For an appetizer, you absolutely need to order the Baja Sea Bass Ceviche ($24) that comes with passion fruit & aji amarillo sauce, pickled cherries, tomatoes, micro cilantro, and a side of well-seasoned tortilla chips for scooping. The citrusy sweetness from the passion fruit pairs perfectly with the sea bass, and I will definitely be re-ordering this every time I dine here. Although we were expecting something more substantial, the Bone Marrow & Wagyu Pastrami ($27) is a flavorful savory appetizer for meat-lovers. The meat comes piled on top of the bone, along with grain mustard, capers, shallots, and mushrooms, accompanied by sourdough bread on the side. We came here for the pasta (they have gluten free noodles!) but unfortunately all of their pasta dishes contain dairy that can't be removed, including the pasta menu items that don't list cheese. Hopefully they update their menus soon, because we ordered the Bolognese ($27) with the 7 hour braised meat sauce given that I'm a lactose-intolerant carnivore and it was the only pasta that didn't list parmesan as an ingredient. Not only did it come out covered in cheese, but they couldn't re-make it dairy free because they pre-mix cheese in the sauce. I'd really appreciate it if they tried making a dairy free meat sauce, as I'm sure other lactose intolerant folks would as well. I was overcharged by a few dollars for the wine I ordered, and when I brought it up to the server he did adjust my bill and he let me know the menu had it listed at the incorrect price. Yet another reason why I hope they fix their menu soon, because the ambiance and food-taste here are 5 stars!\",\n",
      "                \"rating\": 5.0\n",
      "            },\n",
      "            \"8\": {\n",
      "                \"text\": \"Was very impressed with this new restaurant in the heart of Westwood. Came here with my my 9/6 year olds for a \\\"family dinner\\\" and was a little nervous going in since LA is not necessarily known for the best accommodations for couples eating with their crazy kids. The staff was very friendly to them and asked them what the enjoyed about their day. They were able to make some really good pasta for my picky son. We felt welcome and included here. For the adults, the food here is excellent. I had a special menu item Yellowtail Carpaccio that was delicious, fresh, perfectly flavored. The pork chop is a must order and has a cream/Japanese whisky sauce. The chop was perfectly cooked, as you can see in the picture. Pork chops are difficult to consistently execute in a kitchen, and so anytime I have a pork chop like this, it's a memory that lasts. Highly recommend. I had a spicy mezcal drink and a French Bordeaux that went well with my pork chop. I highly recommend this restaurant for singles in West LA who want good food at a reasonable price point, couples/dates, group of friends, and couples with crazy kids like me.\",\n",
      "                \"rating\": 5.0\n",
      "            },\n",
      "            \"9\": {\n",
      "                \"text\": \"I have to admit I was a big fan of fellow and was sad to see they didn't make it, but this is a really great replacement! They made the ambiance swankier with darker lighting and better decor. Loved the food and the cocktails were great. I had the purple rain and they made me sing the song for it hahahaha. Taking one star off only because it got a little confusing when we got there. We arrived about 10 min early and they said no prob they'll seat us right away but then they didn't and asked us to wait at the bar. Usually it's no problem but the dining areas were 75% empty and the bar was full with no seats available. They sat us about 10-15 minutes later. At our reservation time. Not a big deal but it was confusing lol Check out this spot if you're in the area. It's good!\",\n",
      "                \"rating\": 4.0\n",
      "            }\n",
      "        }\n",
      "    }\n",
      "}\n"
     ]
    }
   ],
   "source": [
    "print(json.dumps(restaurant_reviews, indent=4))"
   ]
  },
  {
   "cell_type": "markdown",
   "metadata": {},
   "source": [
    "## 2. Generating reviews"
   ]
  },
  {
   "cell_type": "code",
   "execution_count": 5,
   "metadata": {},
   "outputs": [],
   "source": [
    "# Generate a new review for a restaurant\n",
    "new_review = yelp_bot.generate_new_review(\n",
    "    restaurant_reviews,\n",
    "    number_of_reviews=4\n",
    ")"
   ]
  },
  {
   "cell_type": "code",
   "execution_count": 6,
   "metadata": {},
   "outputs": [
    {
     "name": "stdout",
     "output_type": "stream",
     "text": [
      "{\n",
      "    \"Wolfsglen\": {\n",
      "        \"url\": \"https://www.yelp.com/biz/wolfsglen-los-angeles-2?adjust_creative=_JYYxIM0L3dzWPbyyU37ZA&utm_campaign=yelp_api_v3&utm_medium=api_v3_business_search&utm_source=_JYYxIM0L3dzWPbyyU37ZA\",\n",
      "        \"text\": \"Last night, I had the pleasure of trying the delicious sea bass at Wolfsglen, and I must say, it was a memorable dining experience. The ambiance of the restaurant was modern and inviting, with a touch of fine dining elegance that added to the overall experience.\\n\\nThe service was top-notch, with our server going above and beyond to ensure we had a great meal. They were knowledgeable about the menu and offered helpful suggestions, which enhanced our dining experience.\\n\\nAs for the sea bass, it was cooked to perfection - tender, flavorful, and simply delightful. The portion size was generous, and the dish was accompanied by a delicious spicy sauce that added an extra kick. I would highly recommend trying the sea bass at Wolfsglen for a truly delicious dining experience.\",\n",
      "        \"rating\": 4\n",
      "    }\n",
      "}\n"
     ]
    }
   ],
   "source": [
    "print(json.dumps(new_review, indent=4))"
   ]
  },
  {
   "cell_type": "markdown",
   "metadata": {},
   "source": [
    "## 3. Posting reviews"
   ]
  },
  {
   "cell_type": "code",
   "execution_count": 8,
   "metadata": {},
   "outputs": [
    {
     "name": "stdout",
     "output_type": "stream",
     "text": [
      "Mozilla/5.0 (Macintosh; Intel Mac OS X 10.15; rv:109.0) Gecko/20100101 Firefox/117.0\n"
     ]
    }
   ],
   "source": [
    "# # Posting reviews\n",
    "name = next(iter(new_review))\n",
    "restaurant_url = new_review[name]['url']\n",
    "\n",
    "yelp_bot.create_bot(headless=False)\n",
    "yelp_bot.open_yelp(restaurant_url)\n",
    "yelp_bot.open_write_review()\n",
    "yelp_bot.post_review(new_review)"
   ]
  },
  {
   "cell_type": "code",
   "execution_count": null,
   "metadata": {},
   "outputs": [],
   "source": [
    "type(new_review[name]['rating'])"
   ]
  },
  {
   "cell_type": "markdown",
   "metadata": {},
   "source": [
    "# Generating a list of new reviews\n",
    "\n",
    "## 1. Scraping reviews"
   ]
  },
  {
   "cell_type": "code",
   "execution_count": null,
   "metadata": {},
   "outputs": [],
   "source": [
    "# Get the reviews for a list of restaurants\n",
    "# reviews = yelp_bot.get_reviews_from_list_of_restaurants(\n",
    "#     restaurants=my_restaurants,\n",
    "#     number_of_pages=5,\n",
    "#     store=True\n",
    "# )"
   ]
  },
  {
   "cell_type": "markdown",
   "metadata": {},
   "source": [
    "## 2. Generating reviews"
   ]
  },
  {
   "cell_type": "code",
   "execution_count": null,
   "metadata": {},
   "outputs": [],
   "source": [
    "# Generate a list of new reviews for a list of restaurants\n",
    "# new_reviews = yelp_bot.generate_list_of_new_reviews(\n",
    "#     restaurants_reviews=reviews,\n",
    "#     n_input_reviews=2,\n",
    "#     n_output_reviews=1,\n",
    "#     store=True\n",
    "# )"
   ]
  },
  {
   "cell_type": "markdown",
   "metadata": {},
   "source": [
    "## 3. Posting reviews"
   ]
  },
  {
   "cell_type": "code",
   "execution_count": null,
   "metadata": {},
   "outputs": [],
   "source": []
  }
 ],
 "metadata": {
  "kernelspec": {
   "display_name": "datascience",
   "language": "python",
   "name": "python3"
  },
  "language_info": {
   "codemirror_mode": {
    "name": "ipython",
    "version": 3
   },
   "file_extension": ".py",
   "mimetype": "text/x-python",
   "name": "python",
   "nbconvert_exporter": "python",
   "pygments_lexer": "ipython3",
   "version": "3.9.16"
  }
 },
 "nbformat": 4,
 "nbformat_minor": 2
}
