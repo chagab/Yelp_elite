{
 "cells": [
  {
   "cell_type": "code",
   "execution_count": 1,
   "metadata": {},
   "outputs": [],
   "source": [
    "import json\n",
    "from YelpBot import YelpBot\n",
    "\n",
    "yelp_bot = YelpBot()"
   ]
  },
  {
   "cell_type": "code",
   "execution_count": 2,
   "metadata": {},
   "outputs": [],
   "source": [
    "location = \"Westwood, Los Angeles\"\n",
    "my_restaurants = yelp_bot.get_list_of_restaurants_from_location(location)"
   ]
  },
  {
   "cell_type": "markdown",
   "metadata": {},
   "source": [
    "# Generating a single new review\n",
    "\n",
    "## 1. Scraping reviews"
   ]
  },
  {
   "cell_type": "code",
   "execution_count": 3,
   "metadata": {},
   "outputs": [
    {
     "name": "stdout",
     "output_type": "stream",
     "text": [
      "Scraping Wolfsglen, page 1\n"
     ]
    }
   ],
   "source": [
    "# Get reviews for a restaurant\n",
    "restaurant_reviews = yelp_bot.get_reviews_from_restaurant(\n",
    "    restaurant=my_restaurants[0],\n",
    "    number_of_pages=1\n",
    ")"
   ]
  },
  {
   "cell_type": "code",
   "execution_count": null,
   "metadata": {},
   "outputs": [],
   "source": [
    "print(json.dumps(restaurant_reviews, indent=4))"
   ]
  },
  {
   "cell_type": "markdown",
   "metadata": {},
   "source": [
    "## 2. Generating reviews"
   ]
  },
  {
   "cell_type": "code",
   "execution_count": 5,
   "metadata": {},
   "outputs": [],
   "source": [
    "# Generate a new review for a restaurant\n",
    "new_review = yelp_bot.generate_new_review(\n",
    "    restaurant_reviews,\n",
    "    number_of_reviews=4\n",
    ")"
   ]
  },
  {
   "cell_type": "code",
   "execution_count": null,
   "metadata": {},
   "outputs": [],
   "source": [
    "print(json.dumps(new_review, indent=4))"
   ]
  },
  {
   "cell_type": "markdown",
   "metadata": {},
   "source": [
    "## 3. Posting reviews"
   ]
  },
  {
   "cell_type": "code",
   "execution_count": 12,
   "metadata": {},
   "outputs": [
    {
     "name": "stdout",
     "output_type": "stream",
     "text": [
      "Mozilla/5.0 (Windows NT 10.0; Win64; x64) AppleWebKit/537.36 (KHTML, like Gecko) Chrome/117.0.0.0 Safari/537.36 Edg/117.0.2045.31\n"
     ]
    }
   ],
   "source": [
    "# # Posting reviews\n",
    "name = next(iter(new_review))\n",
    "restaurant_url = new_review[name]['url']\n",
    "\n",
    "yelp_bot.create_bot(headless=False)\n",
    "yelp_bot.open_yelp()\n",
    "yelp_bot.open_restaurant_page(restaurant_url)"
   ]
  },
  {
   "cell_type": "markdown",
   "metadata": {},
   "source": [
    "# Generating a list of new reviews\n",
    "\n",
    "## 1. Scraping reviews"
   ]
  },
  {
   "cell_type": "code",
   "execution_count": null,
   "metadata": {},
   "outputs": [],
   "source": [
    "# Get the reviews for a list of restaurants\n",
    "# reviews = yelp_bot.get_reviews_from_list_of_restaurants(\n",
    "#     restaurants=my_restaurants,\n",
    "#     number_of_pages=5,\n",
    "#     store=True\n",
    "# )"
   ]
  },
  {
   "cell_type": "markdown",
   "metadata": {},
   "source": [
    "## 2. Generating reviews"
   ]
  },
  {
   "cell_type": "code",
   "execution_count": null,
   "metadata": {},
   "outputs": [],
   "source": [
    "# Generate a list of new reviews for a list of restaurants\n",
    "# new_reviews = yelp_bot.generate_list_of_new_reviews(\n",
    "#     restaurants_reviews=reviews,\n",
    "#     n_input_reviews=2,\n",
    "#     n_output_reviews=1,\n",
    "#     store=True\n",
    "# )"
   ]
  },
  {
   "cell_type": "markdown",
   "metadata": {},
   "source": [
    "## 3. Posting reviews"
   ]
  },
  {
   "cell_type": "code",
   "execution_count": null,
   "metadata": {},
   "outputs": [],
   "source": []
  }
 ],
 "metadata": {
  "kernelspec": {
   "display_name": "datascience",
   "language": "python",
   "name": "python3"
  },
  "language_info": {
   "codemirror_mode": {
    "name": "ipython",
    "version": 3
   },
   "file_extension": ".py",
   "mimetype": "text/x-python",
   "name": "python",
   "nbconvert_exporter": "python",
   "pygments_lexer": "ipython3",
   "version": "3.9.16"
  }
 },
 "nbformat": 4,
 "nbformat_minor": 2
}
