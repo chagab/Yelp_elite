{
 "cells": [
  {
   "cell_type": "code",
   "execution_count": 1,
   "metadata": {},
   "outputs": [],
   "source": [
    "from YelpBot import YelpBot"
   ]
  },
  {
   "cell_type": "code",
   "execution_count": 2,
   "metadata": {},
   "outputs": [],
   "source": [
    "yelp_bot = YelpBot()"
   ]
  },
  {
   "cell_type": "code",
   "execution_count": 3,
   "metadata": {},
   "outputs": [],
   "source": [
    "location = \"Westwood, Los Angeles\"\n",
    "my_restaurants = yelp_bot.get_list_of_restaurants_from_location(location)"
   ]
  },
  {
   "cell_type": "code",
   "execution_count": 4,
   "metadata": {},
   "outputs": [
    {
     "name": "stdout",
     "output_type": "stream",
     "text": [
      "Scraping Wolfsglen, page 1\n",
      "Scraping Wolfsglen, page 2\n",
      "Scraping Wolfsglen, page 3\n",
      "Scraping Wolfsglen, page 4\n",
      "Scraping Wolfsglen, page 5\n",
      "Scraping GRANVILLE, page 1\n",
      "Scraping GRANVILLE, page 2\n",
      "Scraping GRANVILLE, page 3\n",
      "Scraping GRANVILLE, page 4\n",
      "Scraping GRANVILLE, page 5\n",
      "Scraping The HIDEOUT, page 1\n",
      "Scraping The HIDEOUT, page 2\n",
      "Scraping The HIDEOUT, page 3\n",
      "Scraping The HIDEOUT, page 4\n",
      "Scraping The HIDEOUT, page 5\n",
      "Scraping ixlb Dimsum Eats- Westwood , page 1\n",
      "Scraping ixlb Dimsum Eats- Westwood , page 2\n",
      "Scraping ixlb Dimsum Eats- Westwood , page 3\n",
      "Scraping ixlb Dimsum Eats- Westwood , page 4\n",
      "Scraping ixlb Dimsum Eats- Westwood , page 5\n",
      "Scraping Cafe Belen, page 1\n",
      "Scraping Cafe Belen, page 2\n",
      "Scraping Cafe Belen, page 3\n",
      "Scraping Cafe Belen, page 4\n",
      "Scraping Cafe Belen, page 5\n",
      "Scraping Pomodoro Trattoria, page 1\n",
      "Scraping Pomodoro Trattoria, page 2\n",
      "Scraping Pomodoro Trattoria, page 3\n",
      "Scraping Pomodoro Trattoria, page 4\n",
      "Scraping Pomodoro Trattoria, page 5\n",
      "Scraping Violet Bistro, page 1\n",
      "Scraping Violet Bistro, page 2\n",
      "Scraping Violet Bistro, page 3\n",
      "Scraping Violet Bistro, page 4\n",
      "Scraping Violet Bistro, page 5\n",
      "Scraping Jemma di Mare, page 1\n",
      "Scraping Jemma di Mare, page 2\n",
      "Scraping Jemma di Mare, page 3\n",
      "Scraping Jemma di Mare, page 4\n",
      "Scraping Jemma di Mare, page 5\n",
      "Scraping Lima Nikkei Westwood, page 1\n",
      "Scraping Lima Nikkei Westwood, page 2\n",
      "Scraping Lima Nikkei Westwood, page 3\n",
      "Scraping Lima Nikkei Westwood, page 4\n",
      "Scraping Lima Nikkei Westwood, page 5\n",
      "Scraping The Brixton, page 1\n",
      "Scraping The Brixton, page 2\n",
      "Scraping The Brixton, page 3\n",
      "Scraping The Brixton, page 4\n",
      "Scraping The Brixton, page 5\n",
      "Scraping Toranj, page 1\n",
      "Scraping Toranj, page 2\n",
      "Scraping Toranj, page 3\n",
      "Scraping Toranj, page 4\n",
      "Scraping Toranj, page 5\n",
      "Scraping Prince of Venice Restaurant, page 1\n",
      "Scraping Prince of Venice Restaurant, page 2\n",
      "Scraping Prince of Venice Restaurant, page 3\n",
      "Scraping Prince of Venice Restaurant, page 4\n",
      "Scraping Prince of Venice Restaurant, page 5\n",
      "Scraping Umberto's Trattoria, page 1\n",
      "Scraping Umberto's Trattoria, page 2\n",
      "Scraping Umberto's Trattoria, page 3\n",
      "Scraping Umberto's Trattoria, page 4\n",
      "Scraping Umberto's Trattoria, page 5\n",
      "Scraping Emporium Thai, page 1\n",
      "Scraping Emporium Thai, page 2\n",
      "Scraping Emporium Thai, page 3\n",
      "Scraping Emporium Thai, page 4\n",
      "Scraping Emporium Thai, page 5\n",
      "Scraping Hijo De Su Madre, page 1\n",
      "Scraping Hijo De Su Madre, page 2\n",
      "Scraping Hijo De Su Madre, page 3\n",
      "Scraping Hijo De Su Madre, page 4\n",
      "Scraping Hijo De Su Madre, page 5\n",
      "Scraping Northern Cafe Chinese Hot Pot, page 1\n",
      "Scraping Northern Cafe Chinese Hot Pot, page 2\n",
      "Scraping Northern Cafe Chinese Hot Pot, page 3\n",
      "Scraping Northern Cafe Chinese Hot Pot, page 4\n",
      "Scraping Northern Cafe Chinese Hot Pot, page 5\n",
      "Scraping Mr Rice, page 1\n",
      "Scraping Mr Rice, page 2\n",
      "Scraping Mr Rice, page 3\n",
      "Scraping Mr Rice, page 4\n",
      "Scraping Mr Rice, page 5\n",
      "Scraping KazuNori | Westwood, page 1\n",
      "Scraping KazuNori | Westwood, page 2\n",
      "Scraping KazuNori | Westwood, page 3\n",
      "Scraping KazuNori | Westwood, page 4\n",
      "Scraping KazuNori | Westwood, page 5\n",
      "Scraping Lulu, page 1\n",
      "Scraping Lulu, page 2\n",
      "Scraping Lulu, page 3\n",
      "Scraping Lulu, page 4\n",
      "Scraping Lulu, page 5\n",
      "Scraping 1212 Santa Monica, page 1\n",
      "Scraping 1212 Santa Monica, page 2\n",
      "Scraping 1212 Santa Monica, page 3\n",
      "Scraping 1212 Santa Monica, page 4\n",
      "Scraping 1212 Santa Monica, page 5\n"
     ]
    }
   ],
   "source": [
    "# Scraping reviews\n",
    "reviews = yelp_bot.get_reviews_from_list_of_restaurants(\n",
    "    restaurants=my_restaurants,\n",
    "    number_of_pages=5,\n",
    "    store=True\n",
    ")"
   ]
  },
  {
   "cell_type": "code",
   "execution_count": 5,
   "metadata": {},
   "outputs": [],
   "source": [
    "# # Posting reviews\n",
    "# yelp_bot.create_bot(headless=False)\n",
    "# yelp_bot.open_yelp()\n",
    "# yelp_bot.open_restaurant_page(\"test\")"
   ]
  },
  {
   "cell_type": "markdown",
   "metadata": {},
   "source": []
  }
 ],
 "metadata": {
  "kernelspec": {
   "display_name": "datascience",
   "language": "python",
   "name": "python3"
  },
  "language_info": {
   "codemirror_mode": {
    "name": "ipython",
    "version": 3
   },
   "file_extension": ".py",
   "mimetype": "text/x-python",
   "name": "python",
   "nbconvert_exporter": "python",
   "pygments_lexer": "ipython3",
   "version": "3.9.16"
  }
 },
 "nbformat": 4,
 "nbformat_minor": 2
}
