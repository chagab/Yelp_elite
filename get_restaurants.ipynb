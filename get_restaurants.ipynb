{
 "cells": [
  {
   "cell_type": "code",
   "execution_count": null,
   "metadata": {},
   "outputs": [],
   "source": [
    "from openai import OpenAI\n",
    "import requests\n",
    "import json"
   ]
  },
  {
   "cell_type": "code",
   "execution_count": null,
   "metadata": {},
   "outputs": [],
   "source": [
    "with open('api_keys.json') as f:\n",
    "    keys = json.load(f)\n",
    "    yelp_api_key = keys['yelp_api_key']\n",
    "    openai_api_key = keys['openai_api_key']\n",
    "\n",
    "client = OpenAI(api_key=openai_api_key)"
   ]
  },
  {
   "cell_type": "code",
   "execution_count": null,
   "metadata": {},
   "outputs": [],
   "source": [
    "def generate_review(restaurant_name, reviews):\n",
    "    \"\"\"function to generate a new review with OpenAI's GPT-3 model based on a\n",
    "    list of reviews\"\"\"\n",
    "    prompt = f'Generate a new review for {restaurant_name} based on the '\\\n",
    "        + 'following reviews:\\n'\n",
    "    for review in reviews:\n",
    "        prompt += f'- {review}\\n'\n",
    "    prompt += 'Make the new review about a specific dish that was ' \\\n",
    "        + 'mentionned in the given reviews.\\n'\n",
    "    prompt += 'New review:'\n",
    "    messages = [{\"role\": \"user\", \"content\": prompt}]\n",
    "    response = client.chat.completions.create(\n",
    "        model=\"gpt-3.5-turbo\",\n",
    "        messages=messages,\n",
    "        max_tokens=1024,\n",
    "    )\n",
    "    review_text = response.choices[0].message.content.strip()\n",
    "    return review_text"
   ]
  },
  {
   "cell_type": "code",
   "execution_count": null,
   "metadata": {},
   "outputs": [],
   "source": [
    "location = 'Westwood, Los Angeles'\n",
    "# Define the URL for the Yelp Fusion API to search for restaurants\n",
    "url = f'https://api.yelp.com/v3/businesses/search?term=restaurants&location={location}'\n",
    "# Send a request to the API and get the response\n",
    "headers = {'Authorization': f'Bearer {yelp_api_key}'}\n",
    "response = requests.get(url, headers=headers)\n",
    "\n",
    "# Extract the list of restaurants from the response\n",
    "list_of_restaurants = response.json()\n",
    "restaurants = list_of_restaurants['businesses']\n",
    "json.dump(list_of_restaurants, open(\"list_of_restaurants.json\", 'w'), indent=2)"
   ]
  },
  {
   "cell_type": "code",
   "execution_count": null,
   "metadata": {},
   "outputs": [],
   "source": [
    "# Create a dictionary to store the new reviews for each restaurant\n",
    "new_reviews = {}\n",
    "true_reviews = {}\n",
    "\n",
    "# Loop through each restaurant and get its reviews\n",
    "for restaurant in restaurants:\n",
    "    # Define the URL for the Yelp Fusion API to get reviews for the restaurant\n",
    "    business_id = restaurant['id']\n",
    "    url = f'https://api.yelp.com/v3/businesses/{business_id}/reviews'\n",
    "\n",
    "    # Send a request to the API and get the response\n",
    "    response = requests.get(url, headers=headers)\n",
    "    data = response.json()\n",
    "\n",
    "    # Extract the list of reviews and their ratings from the response\n",
    "    reviews = data['reviews']\n",
    "    review_texts = []\n",
    "    review_ratings = []\n",
    "\n",
    "    for i, review in enumerate(reviews):\n",
    "        text = review['text']\n",
    "        rating = review['rating']\n",
    "\n",
    "        review_texts.append(text)\n",
    "        review_ratings.append(rating)\n",
    "\n",
    "        # store the true reviews\n",
    "        true_reviews[f\"{restaurant['name']}-{i}\"] = {\n",
    "            'url': restaurant['url'],\n",
    "            'review': text,\n",
    "            'rating': rating\n",
    "        }\n",
    "\n",
    "    # Calculate the average rating for the restaurant\n",
    "    avg_rating = int(sum(review_ratings) / len(review_ratings))\n",
    "\n",
    "    # Generate a new review with OpenAI's GPT-3 model\n",
    "    for i in range(4):\n",
    "\n",
    "        new_review = generate_review(restaurant['name'], review_texts)\n",
    "        # Add the new review and rating to the new_reviews dictionary\n",
    "        new_reviews[f\"{restaurant['name']}-{i}\"] = {\n",
    "            'url': restaurant['url'],\n",
    "            'review': new_review,\n",
    "            'rating': avg_rating\n",
    "        }"
   ]
  },
  {
   "cell_type": "code",
   "execution_count": null,
   "metadata": {},
   "outputs": [],
   "source": [
    "json.dump(new_reviews, open(\"new_reviews.json\", 'w'), indent=2)\n",
    "json.dump(true_reviews, open(\"true_reviews.json\", 'w'), indent=2)"
   ]
  }
 ],
 "metadata": {
  "kernelspec": {
   "display_name": "datascience",
   "language": "python",
   "name": "python3"
  },
  "language_info": {
   "codemirror_mode": {
    "name": "ipython",
    "version": 3
   },
   "file_extension": ".py",
   "mimetype": "text/x-python",
   "name": "python",
   "nbconvert_exporter": "python",
   "pygments_lexer": "ipython3",
   "version": "3.9.16"
  },
  "orig_nbformat": 4
 },
 "nbformat": 4,
 "nbformat_minor": 2
}
